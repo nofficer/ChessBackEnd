{
 "cells": [
  {
   "cell_type": "code",
   "execution_count": 1,
   "metadata": {},
   "outputs": [
    {
     "name": "stderr",
     "output_type": "stream",
     "text": [
      "Using TensorFlow backend.\n"
     ]
    }
   ],
   "source": [
    "import matplotlib.pyplot as plt\n",
    "import pandas as pd\n",
    "import numpy as np\n",
    "import os\n",
    "import keras\n",
    "from keras.models import Sequential\n",
    "from keras.layers import Dense, Dropout, Activation\n",
    "from keras.preprocessing.text import Tokenizer\n",
    "import chess\n",
    "import h5py\n",
    "import chess.pgn"
   ]
  },
  {
   "cell_type": "code",
   "execution_count": 2,
   "metadata": {},
   "outputs": [],
   "source": [
    "pgn = open(\"2004Data.pgn\")"
   ]
  },
  {
   "cell_type": "code",
   "execution_count": 3,
   "metadata": {},
   "outputs": [],
   "source": [
    "def position_list_one_hot(self):\n",
    "    builder = []\n",
    "    builder_append = builder.append\n",
    "    for square in chess.SQUARES_180:\n",
    "        mask = chess.BB_SQUARES[square]\n",
    "\n",
    "        if not self.occupied & mask:\n",
    "            builder.extend([0, 0, 0, 0, 0, 0, 0, 0, 0, 0, 0, 0])\n",
    "        elif bool(self.occupied_co[chess.WHITE] & mask):\n",
    "            if self.pawns & mask:\n",
    "                builder.extend([0, 0, 0, 0, 0, 0, 1, 0, 0, 0, 0, 0])\n",
    "            elif self.knights & mask:\n",
    "                builder.extend([0, 0, 0, 0, 0, 0, 0, 1, 0, 0, 0, 0])\n",
    "            elif self.bishops & mask:\n",
    "                builder.extend([0, 0, 0, 0, 0, 0, 0, 0, 1, 0, 0, 0])\n",
    "            elif self.rooks & mask:\n",
    "                builder.extend([0, 0, 0, 0, 0, 0, 0, 0, 0, 1, 0, 0])\n",
    "            elif self.queens & mask:\n",
    "                builder.extend([0, 0, 0, 0, 0, 0, 0, 0, 0, 0, 1, 0])\n",
    "            elif self.kings & mask:\n",
    "                builder.extend([0, 0, 0, 0, 0, 0, 0, 0, 0, 0, 0, 1])\n",
    "        elif self.pawns & mask:\n",
    "            builder.extend([1, 0, 0, 0, 0, 0, 0, 0, 0, 0, 0, 0])\n",
    "        elif self.knights & mask:\n",
    "            builder.extend([0, 1, 0, 0, 0, 0, 0, 0, 0, 0, 0, 0])\n",
    "        elif self.bishops & mask:\n",
    "            builder.extend([0, 0, 1, 0, 0, 0, 0, 0, 0, 0, 0, 0])\n",
    "        elif self.rooks & mask:\n",
    "            builder.extend([0, 0, 0, 1, 0, 0, 0, 0, 0, 0, 0, 0])\n",
    "        elif self.queens & mask:\n",
    "            builder.extend([0, 0, 0, 0, 1, 0, 0, 0, 0, 0, 0, 0])\n",
    "        elif self.kings & mask:\n",
    "            builder.extend([0, 0, 0, 0, 0, 1, 0, 0, 0, 0, 0, 0])\n",
    "\n",
    "    return np.reshape(np.array(builder), (1, 768))\n",
    "\n",
    "def position_list(self):\n",
    "    '''same as position_list_one_hot except this is converts pieces to\n",
    "    numbers between 1 and 12. Used for piece_moved function'''\n",
    "    builder = []\n",
    "    builder_append = builder.append\n",
    "    for square in chess.SQUARES_180:\n",
    "        mask = chess.BB_SQUARES[square]\n",
    "\n",
    "        if not self.occupied & mask:\n",
    "            builder_append(0)\n",
    "        elif bool(self.occupied_co[chess.WHITE] & mask):\n",
    "            if self.pawns & mask:\n",
    "                builder_append(7)\n",
    "            elif self.knights & mask:\n",
    "                builder_append(8)\n",
    "            elif self.bishops & mask:\n",
    "                builder_append(9)\n",
    "            elif self.rooks & mask:\n",
    "                builder_append(10)\n",
    "            elif self.queens & mask:\n",
    "                builder_append(11)\n",
    "            elif self.kings & mask:\n",
    "                builder_append(12)\n",
    "        elif self.pawns & mask:\n",
    "            builder_append(1)\n",
    "        elif self.knights & mask:\n",
    "            builder_append(2)\n",
    "        elif self.bishops & mask:\n",
    "            builder_append(3)\n",
    "        elif self.rooks & mask:\n",
    "            builder_append(4)\n",
    "        elif self.queens & mask:\n",
    "            builder_append(5)\n",
    "        elif self.kings & mask:\n",
    "            builder_append(6)\n",
    "\n",
    "    return np.reshape(np.array(builder), (1, 64))\n",
    "\n",
    "chess.BaseBoard.position_list_one_hot = position_list_one_hot\n",
    "chess.BaseBoard.position_list = position_list"
   ]
  },
  {
   "cell_type": "code",
   "execution_count": 4,
   "metadata": {},
   "outputs": [],
   "source": [
    "boardstate = []\n",
    "while True:\n",
    "  game = chess.pgn.read_game(pgn)\n",
    "  if game is None:\n",
    "            break\n",
    "  board = game.board()\n",
    "  for move in game.mainline_moves():\n",
    "     curBoard = board.position_list()\n",
    "     curOneHot = board.position_list_one_hot()\n",
    "     board.push(move)\n",
    "     aftBoard = board.position_list()\n",
    "     aftOneHot = board.position_list_one_hot()\n",
    "    \n",
    "     boardstate.append((curBoard, aftBoard, curOneHot, aftOneHot))"
   ]
  },
  {
   "cell_type": "code",
   "execution_count": 5,
   "metadata": {},
   "outputs": [],
   "source": [
    "df = pd.DataFrame(boardstate)"
   ]
  },
  {
   "cell_type": "code",
   "execution_count": 6,
   "metadata": {},
   "outputs": [],
   "source": [
    "df[\"input\"] = df[0].apply(lambda x: x[0] )\n",
    "df[\"output\"] = df[1].apply(lambda x: x[0] )\n",
    "df[\"inputOneHot\"] = df[2].apply(lambda x: x[0] )\n",
    "df[\"outputOneHot\"] = df[3].apply(lambda x: x[0] )"
   ]
  },
  {
   "cell_type": "code",
   "execution_count": 7,
   "metadata": {},
   "outputs": [],
   "source": [
    "data = df[[\"input\", \"output\", \"inputOneHot\",\"outputOneHot\"]]"
   ]
  },
  {
   "cell_type": "code",
   "execution_count": 8,
   "metadata": {},
   "outputs": [],
   "source": [
    "def piece_moved(position1, position2):\n",
    "    affected_squares = []\n",
    "    for i in range(64):  # Step 1\n",
    "        if position1[i] != position2[i]:\n",
    "            affected_squares.append(i)\n",
    "    if len(affected_squares) > 2:  # Step 2\n",
    "        for square in affected_squares:\n",
    "            if position1[square] == 12 or position1[square] == 6:  # Step 2a\n",
    "                moved_from = square\n",
    "            if position2[square] == 12 or position2[square] == 6:\n",
    "                moved_to = square\n",
    "            if position1[square] == 0:  # Step 2b\n",
    "                if position2[square] == 1:\n",
    "                    moved_to = square\n",
    "                    for square in affected_squares:\n",
    "                        if position1[square] == 1:\n",
    "                            moved_from = square\n",
    "                elif position2[square] == 7:\n",
    "                    moved_to = square\n",
    "                    for square in affected_squares:\n",
    "                        if position1[square] == 7:\n",
    "                            moved_from = square\n",
    "    else:\n",
    "        if position2[affected_squares[0]] == 0:\n",
    "            moved_from, moved_to = affected_squares[0], affected_squares[1]\n",
    "        else:\n",
    "            moved_from, moved_to = affected_squares[1], affected_squares[0]\n",
    "    return moved_from, moved_to"
   ]
  },
  {
   "cell_type": "code",
   "execution_count": 9,
   "metadata": {},
   "outputs": [
    {
     "name": "stderr",
     "output_type": "stream",
     "text": [
      "/home/nathan_a_officer/anaconda3/lib/python3.7/site-packages/ipykernel_launcher.py:1: SettingWithCopyWarning: \n",
      "A value is trying to be set on a copy of a slice from a DataFrame.\n",
      "Try using .loc[row_indexer,col_indexer] = value instead\n",
      "\n",
      "See the caveats in the documentation: http://pandas.pydata.org/pandas-docs/stable/user_guide/indexing.html#returning-a-view-versus-a-copy\n",
      "  \"\"\"Entry point for launching an IPython kernel.\n"
     ]
    }
   ],
   "source": [
    "data[\"From_To\"] = data.apply(lambda x: piece_moved(x[0],x[1]),axis=1)"
   ]
  },
  {
   "cell_type": "code",
   "execution_count": 10,
   "metadata": {},
   "outputs": [
    {
     "name": "stderr",
     "output_type": "stream",
     "text": [
      "/home/nathan_a_officer/anaconda3/lib/python3.7/site-packages/ipykernel_launcher.py:1: SettingWithCopyWarning: \n",
      "A value is trying to be set on a copy of a slice from a DataFrame.\n",
      "Try using .loc[row_indexer,col_indexer] = value instead\n",
      "\n",
      "See the caveats in the documentation: http://pandas.pydata.org/pandas-docs/stable/user_guide/indexing.html#returning-a-view-versus-a-copy\n",
      "  \"\"\"Entry point for launching an IPython kernel.\n",
      "/home/nathan_a_officer/anaconda3/lib/python3.7/site-packages/ipykernel_launcher.py:2: SettingWithCopyWarning: \n",
      "A value is trying to be set on a copy of a slice from a DataFrame.\n",
      "Try using .loc[row_indexer,col_indexer] = value instead\n",
      "\n",
      "See the caveats in the documentation: http://pandas.pydata.org/pandas-docs/stable/user_guide/indexing.html#returning-a-view-versus-a-copy\n",
      "  \n"
     ]
    }
   ],
   "source": [
    "data[\"From\"] = data[\"From_To\"].apply(lambda x: x[0])\n",
    "data[\"To\"] = data[\"From_To\"].apply(lambda x: x[1])"
   ]
  },
  {
   "cell_type": "code",
   "execution_count": 11,
   "metadata": {},
   "outputs": [
    {
     "data": {
      "text/html": [
       "<div>\n",
       "<style scoped>\n",
       "    .dataframe tbody tr th:only-of-type {\n",
       "        vertical-align: middle;\n",
       "    }\n",
       "\n",
       "    .dataframe tbody tr th {\n",
       "        vertical-align: top;\n",
       "    }\n",
       "\n",
       "    .dataframe thead th {\n",
       "        text-align: right;\n",
       "    }\n",
       "</style>\n",
       "<table border=\"1\" class=\"dataframe\">\n",
       "  <thead>\n",
       "    <tr style=\"text-align: right;\">\n",
       "      <th></th>\n",
       "      <th>input</th>\n",
       "      <th>output</th>\n",
       "      <th>inputOneHot</th>\n",
       "      <th>outputOneHot</th>\n",
       "      <th>From_To</th>\n",
       "      <th>From</th>\n",
       "      <th>To</th>\n",
       "    </tr>\n",
       "  </thead>\n",
       "  <tbody>\n",
       "    <tr>\n",
       "      <td>0</td>\n",
       "      <td>[4, 2, 3, 5, 6, 3, 2, 4, 1, 1, 1, 1, 1, 1, 1, ...</td>\n",
       "      <td>[4, 2, 3, 5, 6, 3, 2, 4, 1, 1, 1, 1, 1, 1, 1, ...</td>\n",
       "      <td>[0, 0, 0, 1, 0, 0, 0, 0, 0, 0, 0, 0, 0, 1, 0, ...</td>\n",
       "      <td>[0, 0, 0, 1, 0, 0, 0, 0, 0, 0, 0, 0, 0, 1, 0, ...</td>\n",
       "      <td>(52, 36)</td>\n",
       "      <td>52</td>\n",
       "      <td>36</td>\n",
       "    </tr>\n",
       "    <tr>\n",
       "      <td>1</td>\n",
       "      <td>[4, 2, 3, 5, 6, 3, 2, 4, 1, 1, 1, 1, 1, 1, 1, ...</td>\n",
       "      <td>[4, 2, 3, 5, 6, 3, 2, 4, 1, 1, 0, 1, 1, 1, 1, ...</td>\n",
       "      <td>[0, 0, 0, 1, 0, 0, 0, 0, 0, 0, 0, 0, 0, 1, 0, ...</td>\n",
       "      <td>[0, 0, 0, 1, 0, 0, 0, 0, 0, 0, 0, 0, 0, 1, 0, ...</td>\n",
       "      <td>(10, 26)</td>\n",
       "      <td>10</td>\n",
       "      <td>26</td>\n",
       "    </tr>\n",
       "    <tr>\n",
       "      <td>2</td>\n",
       "      <td>[4, 2, 3, 5, 6, 3, 2, 4, 1, 1, 0, 1, 1, 1, 1, ...</td>\n",
       "      <td>[4, 2, 3, 5, 6, 3, 2, 4, 1, 1, 0, 1, 1, 1, 1, ...</td>\n",
       "      <td>[0, 0, 0, 1, 0, 0, 0, 0, 0, 0, 0, 0, 0, 1, 0, ...</td>\n",
       "      <td>[0, 0, 0, 1, 0, 0, 0, 0, 0, 0, 0, 0, 0, 1, 0, ...</td>\n",
       "      <td>(62, 45)</td>\n",
       "      <td>62</td>\n",
       "      <td>45</td>\n",
       "    </tr>\n",
       "    <tr>\n",
       "      <td>3</td>\n",
       "      <td>[4, 2, 3, 5, 6, 3, 2, 4, 1, 1, 0, 1, 1, 1, 1, ...</td>\n",
       "      <td>[4, 2, 3, 5, 6, 3, 2, 4, 1, 1, 0, 0, 1, 1, 1, ...</td>\n",
       "      <td>[0, 0, 0, 1, 0, 0, 0, 0, 0, 0, 0, 0, 0, 1, 0, ...</td>\n",
       "      <td>[0, 0, 0, 1, 0, 0, 0, 0, 0, 0, 0, 0, 0, 1, 0, ...</td>\n",
       "      <td>(11, 19)</td>\n",
       "      <td>11</td>\n",
       "      <td>19</td>\n",
       "    </tr>\n",
       "    <tr>\n",
       "      <td>4</td>\n",
       "      <td>[4, 2, 3, 5, 6, 3, 2, 4, 1, 1, 0, 0, 1, 1, 1, ...</td>\n",
       "      <td>[4, 2, 3, 5, 6, 3, 2, 4, 1, 1, 0, 0, 1, 1, 1, ...</td>\n",
       "      <td>[0, 0, 0, 1, 0, 0, 0, 0, 0, 0, 0, 0, 0, 1, 0, ...</td>\n",
       "      <td>[0, 0, 0, 1, 0, 0, 0, 0, 0, 0, 0, 0, 0, 1, 0, ...</td>\n",
       "      <td>(51, 35)</td>\n",
       "      <td>51</td>\n",
       "      <td>35</td>\n",
       "    </tr>\n",
       "    <tr>\n",
       "      <td>...</td>\n",
       "      <td>...</td>\n",
       "      <td>...</td>\n",
       "      <td>...</td>\n",
       "      <td>...</td>\n",
       "      <td>...</td>\n",
       "      <td>...</td>\n",
       "      <td>...</td>\n",
       "    </tr>\n",
       "    <tr>\n",
       "      <td>2537143</td>\n",
       "      <td>[0, 0, 0, 0, 0, 0, 0, 0, 0, 0, 0, 2, 0, 0, 1, ...</td>\n",
       "      <td>[0, 0, 0, 0, 0, 0, 0, 0, 0, 0, 0, 0, 0, 0, 1, ...</td>\n",
       "      <td>[0, 0, 0, 0, 0, 0, 0, 0, 0, 0, 0, 0, 0, 0, 0, ...</td>\n",
       "      <td>[0, 0, 0, 0, 0, 0, 0, 0, 0, 0, 0, 0, 0, 0, 0, ...</td>\n",
       "      <td>(11, 17)</td>\n",
       "      <td>11</td>\n",
       "      <td>17</td>\n",
       "    </tr>\n",
       "    <tr>\n",
       "      <td>2537144</td>\n",
       "      <td>[0, 0, 0, 0, 0, 0, 0, 0, 0, 0, 0, 0, 0, 0, 1, ...</td>\n",
       "      <td>[0, 0, 0, 0, 0, 0, 0, 0, 0, 0, 0, 0, 0, 0, 1, ...</td>\n",
       "      <td>[0, 0, 0, 0, 0, 0, 0, 0, 0, 0, 0, 0, 0, 0, 0, ...</td>\n",
       "      <td>[0, 0, 0, 0, 0, 0, 0, 0, 0, 0, 0, 0, 0, 0, 0, ...</td>\n",
       "      <td>(36, 26)</td>\n",
       "      <td>36</td>\n",
       "      <td>26</td>\n",
       "    </tr>\n",
       "    <tr>\n",
       "      <td>2537145</td>\n",
       "      <td>[0, 0, 0, 0, 0, 0, 0, 0, 0, 0, 0, 0, 0, 0, 1, ...</td>\n",
       "      <td>[0, 0, 0, 0, 0, 0, 0, 0, 0, 0, 0, 0, 0, 0, 1, ...</td>\n",
       "      <td>[0, 0, 0, 0, 0, 0, 0, 0, 0, 0, 0, 0, 0, 0, 0, ...</td>\n",
       "      <td>[0, 0, 0, 0, 0, 0, 0, 0, 0, 0, 0, 0, 0, 0, 0, ...</td>\n",
       "      <td>(24, 25)</td>\n",
       "      <td>24</td>\n",
       "      <td>25</td>\n",
       "    </tr>\n",
       "    <tr>\n",
       "      <td>2537146</td>\n",
       "      <td>[0, 0, 0, 0, 0, 0, 0, 0, 0, 0, 0, 0, 0, 0, 1, ...</td>\n",
       "      <td>[0, 0, 0, 0, 0, 0, 0, 0, 0, 0, 0, 0, 0, 0, 1, ...</td>\n",
       "      <td>[0, 0, 0, 0, 0, 0, 0, 0, 0, 0, 0, 0, 0, 0, 0, ...</td>\n",
       "      <td>[0, 0, 0, 0, 0, 0, 0, 0, 0, 0, 0, 0, 0, 0, 0, ...</td>\n",
       "      <td>(26, 43)</td>\n",
       "      <td>26</td>\n",
       "      <td>43</td>\n",
       "    </tr>\n",
       "    <tr>\n",
       "      <td>2537147</td>\n",
       "      <td>[0, 0, 0, 0, 0, 0, 0, 0, 0, 0, 0, 0, 0, 0, 1, ...</td>\n",
       "      <td>[0, 0, 0, 0, 0, 0, 0, 0, 0, 0, 0, 0, 0, 0, 1, ...</td>\n",
       "      <td>[0, 0, 0, 0, 0, 0, 0, 0, 0, 0, 0, 0, 0, 0, 0, ...</td>\n",
       "      <td>[0, 0, 0, 0, 0, 0, 0, 0, 0, 0, 0, 0, 0, 0, 0, ...</td>\n",
       "      <td>(17, 34)</td>\n",
       "      <td>17</td>\n",
       "      <td>34</td>\n",
       "    </tr>\n",
       "  </tbody>\n",
       "</table>\n",
       "<p>2537148 rows × 7 columns</p>\n",
       "</div>"
      ],
      "text/plain": [
       "                                                     input  \\\n",
       "0        [4, 2, 3, 5, 6, 3, 2, 4, 1, 1, 1, 1, 1, 1, 1, ...   \n",
       "1        [4, 2, 3, 5, 6, 3, 2, 4, 1, 1, 1, 1, 1, 1, 1, ...   \n",
       "2        [4, 2, 3, 5, 6, 3, 2, 4, 1, 1, 0, 1, 1, 1, 1, ...   \n",
       "3        [4, 2, 3, 5, 6, 3, 2, 4, 1, 1, 0, 1, 1, 1, 1, ...   \n",
       "4        [4, 2, 3, 5, 6, 3, 2, 4, 1, 1, 0, 0, 1, 1, 1, ...   \n",
       "...                                                    ...   \n",
       "2537143  [0, 0, 0, 0, 0, 0, 0, 0, 0, 0, 0, 2, 0, 0, 1, ...   \n",
       "2537144  [0, 0, 0, 0, 0, 0, 0, 0, 0, 0, 0, 0, 0, 0, 1, ...   \n",
       "2537145  [0, 0, 0, 0, 0, 0, 0, 0, 0, 0, 0, 0, 0, 0, 1, ...   \n",
       "2537146  [0, 0, 0, 0, 0, 0, 0, 0, 0, 0, 0, 0, 0, 0, 1, ...   \n",
       "2537147  [0, 0, 0, 0, 0, 0, 0, 0, 0, 0, 0, 0, 0, 0, 1, ...   \n",
       "\n",
       "                                                    output  \\\n",
       "0        [4, 2, 3, 5, 6, 3, 2, 4, 1, 1, 1, 1, 1, 1, 1, ...   \n",
       "1        [4, 2, 3, 5, 6, 3, 2, 4, 1, 1, 0, 1, 1, 1, 1, ...   \n",
       "2        [4, 2, 3, 5, 6, 3, 2, 4, 1, 1, 0, 1, 1, 1, 1, ...   \n",
       "3        [4, 2, 3, 5, 6, 3, 2, 4, 1, 1, 0, 0, 1, 1, 1, ...   \n",
       "4        [4, 2, 3, 5, 6, 3, 2, 4, 1, 1, 0, 0, 1, 1, 1, ...   \n",
       "...                                                    ...   \n",
       "2537143  [0, 0, 0, 0, 0, 0, 0, 0, 0, 0, 0, 0, 0, 0, 1, ...   \n",
       "2537144  [0, 0, 0, 0, 0, 0, 0, 0, 0, 0, 0, 0, 0, 0, 1, ...   \n",
       "2537145  [0, 0, 0, 0, 0, 0, 0, 0, 0, 0, 0, 0, 0, 0, 1, ...   \n",
       "2537146  [0, 0, 0, 0, 0, 0, 0, 0, 0, 0, 0, 0, 0, 0, 1, ...   \n",
       "2537147  [0, 0, 0, 0, 0, 0, 0, 0, 0, 0, 0, 0, 0, 0, 1, ...   \n",
       "\n",
       "                                               inputOneHot  \\\n",
       "0        [0, 0, 0, 1, 0, 0, 0, 0, 0, 0, 0, 0, 0, 1, 0, ...   \n",
       "1        [0, 0, 0, 1, 0, 0, 0, 0, 0, 0, 0, 0, 0, 1, 0, ...   \n",
       "2        [0, 0, 0, 1, 0, 0, 0, 0, 0, 0, 0, 0, 0, 1, 0, ...   \n",
       "3        [0, 0, 0, 1, 0, 0, 0, 0, 0, 0, 0, 0, 0, 1, 0, ...   \n",
       "4        [0, 0, 0, 1, 0, 0, 0, 0, 0, 0, 0, 0, 0, 1, 0, ...   \n",
       "...                                                    ...   \n",
       "2537143  [0, 0, 0, 0, 0, 0, 0, 0, 0, 0, 0, 0, 0, 0, 0, ...   \n",
       "2537144  [0, 0, 0, 0, 0, 0, 0, 0, 0, 0, 0, 0, 0, 0, 0, ...   \n",
       "2537145  [0, 0, 0, 0, 0, 0, 0, 0, 0, 0, 0, 0, 0, 0, 0, ...   \n",
       "2537146  [0, 0, 0, 0, 0, 0, 0, 0, 0, 0, 0, 0, 0, 0, 0, ...   \n",
       "2537147  [0, 0, 0, 0, 0, 0, 0, 0, 0, 0, 0, 0, 0, 0, 0, ...   \n",
       "\n",
       "                                              outputOneHot   From_To  From  To  \n",
       "0        [0, 0, 0, 1, 0, 0, 0, 0, 0, 0, 0, 0, 0, 1, 0, ...  (52, 36)    52  36  \n",
       "1        [0, 0, 0, 1, 0, 0, 0, 0, 0, 0, 0, 0, 0, 1, 0, ...  (10, 26)    10  26  \n",
       "2        [0, 0, 0, 1, 0, 0, 0, 0, 0, 0, 0, 0, 0, 1, 0, ...  (62, 45)    62  45  \n",
       "3        [0, 0, 0, 1, 0, 0, 0, 0, 0, 0, 0, 0, 0, 1, 0, ...  (11, 19)    11  19  \n",
       "4        [0, 0, 0, 1, 0, 0, 0, 0, 0, 0, 0, 0, 0, 1, 0, ...  (51, 35)    51  35  \n",
       "...                                                    ...       ...   ...  ..  \n",
       "2537143  [0, 0, 0, 0, 0, 0, 0, 0, 0, 0, 0, 0, 0, 0, 0, ...  (11, 17)    11  17  \n",
       "2537144  [0, 0, 0, 0, 0, 0, 0, 0, 0, 0, 0, 0, 0, 0, 0, ...  (36, 26)    36  26  \n",
       "2537145  [0, 0, 0, 0, 0, 0, 0, 0, 0, 0, 0, 0, 0, 0, 0, ...  (24, 25)    24  25  \n",
       "2537146  [0, 0, 0, 0, 0, 0, 0, 0, 0, 0, 0, 0, 0, 0, 0, ...  (26, 43)    26  43  \n",
       "2537147  [0, 0, 0, 0, 0, 0, 0, 0, 0, 0, 0, 0, 0, 0, 0, ...  (17, 34)    17  34  \n",
       "\n",
       "[2537148 rows x 7 columns]"
      ]
     },
     "execution_count": 11,
     "metadata": {},
     "output_type": "execute_result"
    }
   ],
   "source": [
    "data"
   ]
  },
  {
   "cell_type": "code",
   "execution_count": 12,
   "metadata": {},
   "outputs": [],
   "source": [
    "def makeReshape(x):\n",
    "  remake = []\n",
    "  for y in x:\n",
    "    yz = y.reshape(8,8,12)\n",
    "    remake.extend(y.reshape(8,8,12))\n",
    "  return np.reshape(np.array(remake), (2537148,8,8,12))"
   ]
  },
  {
   "cell_type": "code",
   "execution_count": 13,
   "metadata": {},
   "outputs": [],
   "source": [
    "dfxm = makeReshape(df[\"inputOneHot\"])"
   ]
  },
  {
   "cell_type": "code",
   "execution_count": 14,
   "metadata": {},
   "outputs": [],
   "source": [
    "FromNP = data[\"From\"].to_numpy()\n",
    "ToNP = data[\"To\"].to_numpy()"
   ]
  },
  {
   "cell_type": "code",
   "execution_count": 15,
   "metadata": {},
   "outputs": [],
   "source": [
    "#np.save(\"input.npy\", dfxm)"
   ]
  },
  {
   "cell_type": "code",
   "execution_count": 16,
   "metadata": {},
   "outputs": [],
   "source": [
    "#np.save(\"from.npy\", FromNP)\n",
    "#np.save(\"to.npy\", ToNP)"
   ]
  },
  {
   "cell_type": "code",
   "execution_count": 2,
   "metadata": {},
   "outputs": [],
   "source": [
    "input = np.load(\"input.npy\")"
   ]
  },
  {
   "cell_type": "code",
   "execution_count": 4,
   "metadata": {},
   "outputs": [],
   "source": [
    "fromY = np.load(\"from.npy\")"
   ]
  },
  {
   "cell_type": "code",
   "execution_count": 78,
   "metadata": {},
   "outputs": [],
   "source": [
    "toY = np.load(\"to.npy\")"
   ]
  },
  {
   "cell_type": "code",
   "execution_count": 5,
   "metadata": {},
   "outputs": [],
   "source": [
    "from keras.models import Sequential\n",
    "from keras import optimizers\n",
    "from keras.layers import Dense, Dropout, Flatten, Activation\n",
    "from keras.layers import Conv2D, MaxPooling2D\n",
    "from sklearn.model_selection import train_test_split\n",
    "x_train, x_test, y_train, y_test = train_test_split(input,fromY, random_state=42, test_size=0.3)"
   ]
  },
  {
   "cell_type": "code",
   "execution_count": 6,
   "metadata": {},
   "outputs": [],
   "source": [
    "from keras import backend as K\n",
    "from keras.callbacks import ModelCheckpoint, TensorBoard\n",
    "from keras.layers import (Activation, Conv2D, Dense, Dropout, Flatten,\n",
    "                          LeakyReLU, MaxPooling2D)\n",
    "from keras.layers.normalization import BatchNormalization\n",
    "from keras.models import Sequential\n",
    "from keras.optimizers import SGD, Adadelta, Adam, RMSprop\n",
    "K.clear_session()\n",
    "\n",
    "batch_size = 20000\n",
    "num_classes = 64\n",
    "y_train_cat = keras.utils.to_categorical(y_train, num_classes)\n",
    "y_test_cat = keras.utils.to_categorical(y_test, num_classes)\n",
    "epochs = 10\n",
    "img_rows, img_cols = 8, 8\n",
    "input_shape = (img_rows, img_cols, 12)\n",
    "\n",
    "model = Sequential()\n",
    "model.add(Conv2D(128, kernel_size=(2, 2), input_shape=input_shape))\n",
    "model.add(Activation('relu'))\n",
    "model.add(Conv2D(128, kernel_size=(2, 2), input_shape=input_shape))\n",
    "model.add(Activation('relu'))\n",
    "model.add(Dropout(0.2))\n",
    "model.add(Dense(1024))\n",
    "model.add(Activation('relu'))\n",
    "model.add(Flatten())\n",
    "model.add(Dense(1024))\n",
    "model.add(Activation('relu'))\n",
    "model.add(Dense(num_classes, activation='softmax'))\n",
    "model.compile(loss=keras.losses.categorical_crossentropy,optimizer=Adam(),metrics=['accuracy'])"
   ]
  },
  {
   "cell_type": "code",
   "execution_count": 7,
   "metadata": {},
   "outputs": [
    {
     "name": "stdout",
     "output_type": "stream",
     "text": [
      "Train on 1776003 samples, validate on 761145 samples\n",
      "Epoch 1/10\n",
      "1776003/1776003 [==============================] - 776s 437us/step - loss: 2.9064 - accuracy: 0.1708 - val_loss: 2.3580 - val_accuracy: 0.2431\n",
      "Epoch 2/10\n",
      "1776003/1776003 [==============================] - 774s 436us/step - loss: 2.3321 - accuracy: 0.2479 - val_loss: 2.2180 - val_accuracy: 0.2763\n",
      "Epoch 3/10\n",
      "1776003/1776003 [==============================] - 773s 435us/step - loss: 2.2331 - accuracy: 0.2719 - val_loss: 2.1732 - val_accuracy: 0.2856\n",
      "Epoch 4/10\n",
      "1776003/1776003 [==============================] - 774s 436us/step - loss: 2.1774 - accuracy: 0.2870 - val_loss: 2.1233 - val_accuracy: 0.2990\n",
      "Epoch 5/10\n",
      "1776003/1776003 [==============================] - 777s 438us/step - loss: 2.1314 - accuracy: 0.2994 - val_loss: 2.0993 - val_accuracy: 0.3085\n",
      "Epoch 6/10\n",
      "1776003/1776003 [==============================] - 777s 437us/step - loss: 2.0973 - accuracy: 0.3095 - val_loss: 2.0748 - val_accuracy: 0.3147\n",
      "Epoch 7/10\n",
      "1776003/1776003 [==============================] - 777s 437us/step - loss: 2.0628 - accuracy: 0.3193 - val_loss: 2.0518 - val_accuracy: 0.3209\n",
      "Epoch 8/10\n",
      "1776003/1776003 [==============================] - 779s 438us/step - loss: 2.0392 - accuracy: 0.3263 - val_loss: 2.0382 - val_accuracy: 0.3254\n",
      "Epoch 9/10\n",
      "1776003/1776003 [==============================] - 777s 437us/step - loss: 2.0116 - accuracy: 0.3348 - val_loss: 2.0233 - val_accuracy: 0.3279\n",
      "Epoch 10/10\n",
      "1776003/1776003 [==============================] - 791s 445us/step - loss: 1.9898 - accuracy: 0.3414 - val_loss: 2.0099 - val_accuracy: 0.3346\n"
     ]
    },
    {
     "data": {
      "text/plain": [
       "<keras.callbacks.callbacks.History at 0x7f395c5bc5d0>"
      ]
     },
     "execution_count": 7,
     "metadata": {},
     "output_type": "execute_result"
    }
   ],
   "source": [
    "#From Model\n",
    "\n",
    "model.fit(x_train, y_train_cat,\n",
    "          batch_size=batch_size,\n",
    "          epochs=epochs,\n",
    "          validation_data=(x_test, y_test_cat), \n",
    "          verbose=1)"
   ]
  },
  {
   "cell_type": "code",
   "execution_count": 8,
   "metadata": {},
   "outputs": [],
   "source": [
    "model_json = model.to_json()\n",
    "with open(\"model.json\", \"w\") as json_file:\n",
    "    json_file.write(model_json)"
   ]
  },
  {
   "cell_type": "code",
   "execution_count": 9,
   "metadata": {},
   "outputs": [
    {
     "name": "stdout",
     "output_type": "stream",
     "text": [
      "Saved model to disk\n"
     ]
    }
   ],
   "source": [
    "model.save_weights(\"model.h5\")\n",
    "print(\"Saved model to disk\")"
   ]
  },
  {
   "cell_type": "code",
   "execution_count": 11,
   "metadata": {},
   "outputs": [],
   "source": [
    "from keras.models import model_from_json"
   ]
  },
  {
   "cell_type": "code",
   "execution_count": 12,
   "metadata": {},
   "outputs": [],
   "source": [
    "json_file = open('model.json', 'r')\n",
    "loaded_model_json = json_file.read()\n",
    "json_file.close()\n",
    "loaded_model = model_from_json(loaded_model_json)"
   ]
  },
  {
   "cell_type": "code",
   "execution_count": 13,
   "metadata": {},
   "outputs": [
    {
     "name": "stdout",
     "output_type": "stream",
     "text": [
      "Loaded model from disk\n"
     ]
    }
   ],
   "source": [
    "loaded_model.load_weights(\"model.h5\")\n",
    "print(\"Loaded model from disk\")"
   ]
  },
  {
   "cell_type": "code",
   "execution_count": 17,
   "metadata": {},
   "outputs": [],
   "source": [
    "prediction = loaded_model.predict(x_test)"
   ]
  },
  {
   "cell_type": "code",
   "execution_count": 59,
   "metadata": {},
   "outputs": [],
   "source": [
    "predList = list(prediction[1])"
   ]
  },
  {
   "cell_type": "code",
   "execution_count": 66,
   "metadata": {},
   "outputs": [],
   "source": [
    "WhereFrom = {}\n",
    "values = []\n",
    "for item in predList:\n",
    "    num = format(item, '.12f')\n",
    "    numIndex = predList.index(item)\n",
    "    WhereFrom.update({numIndex:num})\n",
    "    values.append(num)\n",
    "    "
   ]
  },
  {
   "cell_type": "code",
   "execution_count": 70,
   "metadata": {},
   "outputs": [
    {
     "data": {
      "text/plain": [
       "['0.502145469189',\n",
       " '0.150383040309',\n",
       " '0.061777994037',\n",
       " '0.050007473677',\n",
       " '0.049716029316',\n",
       " '0.038870126009',\n",
       " '0.024137899280',\n",
       " '0.023295812309',\n",
       " '0.022204082459',\n",
       " '0.010841922835',\n",
       " '0.010417195968',\n",
       " '0.007836649194',\n",
       " '0.007615635637',\n",
       " '0.006734543946',\n",
       " '0.006267379038',\n",
       " '0.004826410674',\n",
       " '0.004483061843',\n",
       " '0.003964448348',\n",
       " '0.003887946950',\n",
       " '0.002423611702',\n",
       " '0.001682027942',\n",
       " '0.001293026144',\n",
       " '0.000765372242',\n",
       " '0.000760051829',\n",
       " '0.000531636295',\n",
       " '0.000498544308',\n",
       " '0.000393723894',\n",
       " '0.000257135835',\n",
       " '0.000237868473',\n",
       " '0.000150338994',\n",
       " '0.000143482801',\n",
       " '0.000112790767',\n",
       " '0.000106734595',\n",
       " '0.000106222702',\n",
       " '0.000088008906',\n",
       " '0.000086764849',\n",
       " '0.000080597165',\n",
       " '0.000069352391',\n",
       " '0.000065564600',\n",
       " '0.000058926515',\n",
       " '0.000054183911',\n",
       " '0.000052159365',\n",
       " '0.000050556475',\n",
       " '0.000049862268',\n",
       " '0.000049241236',\n",
       " '0.000046084901',\n",
       " '0.000037315567',\n",
       " '0.000035630950',\n",
       " '0.000035604418',\n",
       " '0.000027360651',\n",
       " '0.000025209589',\n",
       " '0.000024645742',\n",
       " '0.000023590947',\n",
       " '0.000022261838',\n",
       " '0.000020625290',\n",
       " '0.000020155441',\n",
       " '0.000016933263',\n",
       " '0.000014741227',\n",
       " '0.000014532089',\n",
       " '0.000012594634',\n",
       " '0.000012173842',\n",
       " '0.000011066253',\n",
       " '0.000010385992',\n",
       " '0.000008245117']"
      ]
     },
     "execution_count": 70,
     "metadata": {},
     "output_type": "execute_result"
    }
   ],
   "source": [
    "values"
   ]
  },
  {
   "cell_type": "code",
   "execution_count": 74,
   "metadata": {},
   "outputs": [],
   "source": [
    "def get_key(val,the_dict): \n",
    "    for key, value in the_dict.items(): \n",
    "         if val == value: \n",
    "             return key "
   ]
  },
  {
   "cell_type": "code",
   "execution_count": 79,
   "metadata": {},
   "outputs": [],
   "source": [
    "from keras.models import Sequential\n",
    "from keras import optimizers\n",
    "from keras.layers import Dense, Dropout, Flatten, Activation\n",
    "from keras.layers import Conv2D, MaxPooling2D\n",
    "from sklearn.model_selection import train_test_split\n",
    "x_trainTo, x_testTo, y_trainTo, y_testTo = train_test_split(input,toY, random_state=42, test_size=0.3)"
   ]
  },
  {
   "cell_type": "code",
   "execution_count": 80,
   "metadata": {},
   "outputs": [],
   "source": [
    "y_trainTo_cat = keras.utils.to_categorical(y_train, num_classes)\n",
    "y_testTo_cat = keras.utils.to_categorical(y_test, num_classes)"
   ]
  },
  {
   "cell_type": "code",
   "execution_count": 81,
   "metadata": {},
   "outputs": [
    {
     "name": "stdout",
     "output_type": "stream",
     "text": [
      "Train on 1776003 samples, validate on 761145 samples\n",
      "Epoch 1/10\n",
      "1776003/1776003 [==============================] - 779s 438us/step - loss: 1.9661 - accuracy: 0.3489 - val_loss: 1.9987 - val_accuracy: 0.3370\n",
      "Epoch 2/10\n",
      "1776003/1776003 [==============================] - 778s 438us/step - loss: 1.9468 - accuracy: 0.3549 - val_loss: 1.9881 - val_accuracy: 0.3398\n",
      "Epoch 3/10\n",
      "1776003/1776003 [==============================] - 777s 438us/step - loss: 1.9271 - accuracy: 0.3614 - val_loss: 1.9803 - val_accuracy: 0.3422\n",
      "Epoch 4/10\n",
      "1776003/1776003 [==============================] - 774s 436us/step - loss: 1.9079 - accuracy: 0.3671 - val_loss: 1.9771 - val_accuracy: 0.3449\n",
      "Epoch 5/10\n",
      "1776003/1776003 [==============================] - 793s 446us/step - loss: 1.8873 - accuracy: 0.3734 - val_loss: 1.9669 - val_accuracy: 0.3486\n",
      "Epoch 6/10\n",
      "1776003/1776003 [==============================] - 788s 444us/step - loss: 1.8681 - accuracy: 0.3796 - val_loss: 1.9657 - val_accuracy: 0.3488\n",
      "Epoch 7/10\n",
      "1776003/1776003 [==============================] - 793s 447us/step - loss: 1.8499 - accuracy: 0.3855 - val_loss: 1.9591 - val_accuracy: 0.3491\n",
      "Epoch 8/10\n",
      "1776003/1776003 [==============================] - 794s 447us/step - loss: 1.8311 - accuracy: 0.3920 - val_loss: 1.9582 - val_accuracy: 0.3528\n",
      "Epoch 9/10\n",
      "1776003/1776003 [==============================] - 794s 447us/step - loss: 1.8122 - accuracy: 0.3979 - val_loss: 1.9567 - val_accuracy: 0.3517\n",
      "Epoch 10/10\n",
      "1776003/1776003 [==============================] - 797s 449us/step - loss: 1.7922 - accuracy: 0.4036 - val_loss: 1.9530 - val_accuracy: 0.3541\n"
     ]
    },
    {
     "data": {
      "text/plain": [
       "<keras.callbacks.callbacks.History at 0x7f39202222d0>"
      ]
     },
     "execution_count": 81,
     "metadata": {},
     "output_type": "execute_result"
    }
   ],
   "source": [
    "model.fit(x_trainTo, y_trainTo_cat,\n",
    "          batch_size=batch_size,\n",
    "          epochs=epochs,\n",
    "          validation_data=(x_testTo, y_testTo_cat), \n",
    "          verbose=1)"
   ]
  },
  {
   "cell_type": "code",
   "execution_count": 82,
   "metadata": {},
   "outputs": [],
   "source": [
    "to_model_json = model.to_json()\n",
    "with open(\"Tomodel.json\", \"w\") as json_file:\n",
    "    json_file.write(to_model_json)"
   ]
  },
  {
   "cell_type": "code",
   "execution_count": 83,
   "metadata": {},
   "outputs": [
    {
     "name": "stdout",
     "output_type": "stream",
     "text": [
      "Saved model to disk\n"
     ]
    }
   ],
   "source": [
    "model.save_weights(\"Tomodel.h5\")\n",
    "print(\"Saved model to disk\")"
   ]
  },
  {
   "cell_type": "code",
   "execution_count": null,
   "metadata": {},
   "outputs": [],
   "source": []
  }
 ],
 "metadata": {
  "kernelspec": {
   "display_name": "Python 3",
   "language": "python",
   "name": "python3"
  },
  "language_info": {
   "codemirror_mode": {
    "name": "ipython",
    "version": 3
   },
   "file_extension": ".py",
   "mimetype": "text/x-python",
   "name": "python",
   "nbconvert_exporter": "python",
   "pygments_lexer": "ipython3",
   "version": "3.7.4"
  }
 },
 "nbformat": 4,
 "nbformat_minor": 2
}
